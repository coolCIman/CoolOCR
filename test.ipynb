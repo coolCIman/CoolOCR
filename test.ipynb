{
 "cells": [
  {
   "cell_type": "code",
   "execution_count": 3,
   "metadata": {
    "pycharm": {
     "name": "#%%\n"
    }
   },
   "outputs": [
    {
     "data": {
      "text/plain": "<Figure size 432x288 with 1 Axes>",
      "image/png": "[encoded data removed]"
     },
     "metadata": {
      "needs_background": "light"
     },
     "output_type": "display_data"
    },
    {
     "name": "stdout",
     "output_type": "stream",
     "text": [
      "D\n"
     ]
    }
   ],
   "source": [
    "# 测试手写选择题答案识别\n",
    "import cv2\n",
    "import torch\n",
    "\n",
    "from utils.RecognitionModel.AlexNet import AlexNet\n",
    "from utils.RecognitionModel.RecognizeModelProcess import predictImg, cropCharacterImage\n",
    "from matplotlib import pyplot as plt\n",
    "\n",
    "img = cv2.imread(\"2.png\")\n",
    "#plt.imshow(img, cmap = 'gray')\n",
    "img = cv2.resize(img, (100, 100), interpolation= cv2.INTER_CUBIC)\n",
    "img2 = cropCharacterImage(img)\n",
    "plt.imshow(img2)\n",
    "plt.show()\n",
    "\n",
    "# if you have gpu\n",
    "# device = torch.device(\"cuda: 0\")\n",
    "device = torch.device(\"cpu\")\n",
    "\n",
    "# predict the image\n",
    "ans = predictImg(img, device, \"letters\")\n",
    "print(chr(ans))"
   ]
  }
 ],
 "metadata": {
  "kernelspec": {
   "display_name": "Python 3",
   "language": "python",
   "name": "python3"
  },
  "language_info": {
   "codemirror_mode": {
    "name": "ipython",
    "version": 3
   },
   "file_extension": ".py",
   "mimetype": "text/x-python",
   "name": "python",
   "nbconvert_exporter": "python",
   "pygments_lexer": "ipython3",
   "version": "3.7.5"
  }
 },
 "nbformat": 4,
 "nbformat_minor": 1
}